{
 "cells": [
  {
   "cell_type": "code",
   "execution_count": 28,
   "metadata": {
    "_cell_guid": "b1076dfc-b9ad-4769-8c92-a6c4dae69d19",
    "_uuid": "8f2839f25d086af736a60e9eeb907d3b93b6e0e5",
    "execution": {
     "iopub.execute_input": "2025-05-11T18:45:03.540891Z",
     "iopub.status.busy": "2025-05-11T18:45:03.540395Z",
     "iopub.status.idle": "2025-05-11T18:45:03.546067Z",
     "shell.execute_reply": "2025-05-11T18:45:03.545149Z",
     "shell.execute_reply.started": "2025-05-11T18:45:03.540864Z"
    },
    "trusted": true
   },
   "outputs": [],
   "source": [
    "import torch\n",
    "import torch.nn as nn\n",
    "from torch.nn.utils.rnn import pad_sequence, pack_padded_sequence, pad_packed_sequence\n",
    "import torch.optim as optim\n",
    "from torch.utils.data import Dataset\n",
    "from datasets import load_dataset\n",
    "import tqdm\n",
    "from huggingface_hub import notebook_login\n",
    "import matplotlib.pyplot as plt\n",
    "from collections import Counter"
   ]
  },
  {
   "cell_type": "markdown",
   "metadata": {},
   "source": [
    "# Dataset"
   ]
  },
  {
   "cell_type": "markdown",
   "metadata": {},
   "source": [
    "## Download dataset"
   ]
  },
  {
   "cell_type": "code",
   "execution_count": null,
   "metadata": {
    "execution": {
     "iopub.execute_input": "2025-05-11T19:46:18.582558Z",
     "iopub.status.busy": "2025-05-11T19:46:18.581874Z",
     "iopub.status.idle": "2025-05-11T19:46:25.264798Z",
     "shell.execute_reply": "2025-05-11T19:46:25.264325Z",
     "shell.execute_reply.started": "2025-05-11T19:46:18.582531Z"
    },
    "trusted": true
   },
   "outputs": [],
   "source": [
    "dataset = load_dataset('conll2003')"
   ]
  },
  {
   "cell_type": "code",
   "execution_count": 140,
   "metadata": {
    "execution": {
     "iopub.execute_input": "2025-05-11T19:46:27.517092Z",
     "iopub.status.busy": "2025-05-11T19:46:27.516352Z",
     "iopub.status.idle": "2025-05-11T19:46:27.521002Z",
     "shell.execute_reply": "2025-05-11T19:46:27.520447Z",
     "shell.execute_reply.started": "2025-05-11T19:46:27.517064Z"
    },
    "trusted": true
   },
   "outputs": [
    {
     "name": "stdout",
     "output_type": "stream",
     "text": [
      "DatasetDict({\n",
      "    train: Dataset({\n",
      "        features: ['id', 'tokens', 'pos_tags', 'chunk_tags', 'ner_tags'],\n",
      "        num_rows: 14041\n",
      "    })\n",
      "    validation: Dataset({\n",
      "        features: ['id', 'tokens', 'pos_tags', 'chunk_tags', 'ner_tags'],\n",
      "        num_rows: 3250\n",
      "    })\n",
      "    test: Dataset({\n",
      "        features: ['id', 'tokens', 'pos_tags', 'chunk_tags', 'ner_tags'],\n",
      "        num_rows: 3453\n",
      "    })\n",
      "})\n"
     ]
    }
   ],
   "source": [
    "print(dataset)"
   ]
  },
  {
   "cell_type": "code",
   "execution_count": 141,
   "metadata": {
    "execution": {
     "iopub.execute_input": "2025-05-11T19:46:36.105030Z",
     "iopub.status.busy": "2025-05-11T19:46:36.104460Z",
     "iopub.status.idle": "2025-05-11T19:46:46.730388Z",
     "shell.execute_reply": "2025-05-11T19:46:46.729704Z",
     "shell.execute_reply.started": "2025-05-11T19:46:36.105005Z"
    },
    "trusted": true
   },
   "outputs": [
    {
     "name": "stdout",
     "output_type": "stream",
     "text": [
      "Tokens: ['EU', 'rejects', 'German', 'call', 'to', 'boycott', 'British', 'lamb', '.']\n",
      "tags: [3, 0, 7, 0, 0, 0, 7, 0, 0]\n"
     ]
    }
   ],
   "source": [
    "print(f\"Tokens: {dataset['train']['tokens'][0]}\")\n",
    "print(f\"tags: {dataset['train']['ner_tags'][0]}\")"
   ]
  },
  {
   "cell_type": "markdown",
   "metadata": {},
   "source": [
    "## Build Vocab"
   ]
  },
  {
   "cell_type": "code",
   "execution_count": 166,
   "metadata": {
    "execution": {
     "iopub.execute_input": "2025-05-11T19:52:08.240930Z",
     "iopub.status.busy": "2025-05-11T19:52:08.240384Z",
     "iopub.status.idle": "2025-05-11T19:52:09.381134Z",
     "shell.execute_reply": "2025-05-11T19:52:09.380607Z",
     "shell.execute_reply.started": "2025-05-11T19:52:08.240909Z"
    },
    "trusted": true
   },
   "outputs": [],
   "source": [
    "all_tokens = [token for example in dataset['train'] for token in example['tokens']]\n",
    "vocab_counter = Counter(all_tokens)\n",
    "vocab = {'<PAD>': 0, '<UNK>': 1}\n",
    "vocab.update({token: idx + 2 for idx, (token, _) in enumerate(vocab_counter.items())})"
   ]
  },
  {
   "cell_type": "code",
   "execution_count": 167,
   "metadata": {
    "execution": {
     "iopub.execute_input": "2025-05-11T19:52:09.382359Z",
     "iopub.status.busy": "2025-05-11T19:52:09.382124Z",
     "iopub.status.idle": "2025-05-11T19:52:09.386906Z",
     "shell.execute_reply": "2025-05-11T19:52:09.386342Z",
     "shell.execute_reply.started": "2025-05-11T19:52:09.382342Z"
    },
    "trusted": true
   },
   "outputs": [
    {
     "data": {
      "text/plain": [
       "23625"
      ]
     },
     "execution_count": 167,
     "metadata": {},
     "output_type": "execute_result"
    }
   ],
   "source": [
    "vocab_size = len(vocab)\n",
    "vocab_size"
   ]
  },
  {
   "cell_type": "code",
   "execution_count": 169,
   "metadata": {
    "execution": {
     "iopub.execute_input": "2025-05-11T19:52:21.392349Z",
     "iopub.status.busy": "2025-05-11T19:52:21.392046Z",
     "iopub.status.idle": "2025-05-11T19:52:21.397092Z",
     "shell.execute_reply": "2025-05-11T19:52:21.396346Z",
     "shell.execute_reply.started": "2025-05-11T19:52:21.392323Z"
    },
    "trusted": true
   },
   "outputs": [
    {
     "name": "stdout",
     "output_type": "stream",
     "text": [
      "tags : ['O', 'B-PER', 'I-PER', 'B-ORG', 'I-ORG', 'B-LOC', 'I-LOC', 'B-MISC', 'I-MISC']\n"
     ]
    }
   ],
   "source": [
    "tags = dataset['train'].features['ner_tags'].feature.names\n",
    "print(f\"tags : {tags}\")"
   ]
  },
  {
   "cell_type": "code",
   "execution_count": 170,
   "metadata": {
    "execution": {
     "iopub.execute_input": "2025-05-11T19:52:22.431909Z",
     "iopub.status.busy": "2025-05-11T19:52:22.431641Z",
     "iopub.status.idle": "2025-05-11T19:52:22.435747Z",
     "shell.execute_reply": "2025-05-11T19:52:22.435117Z",
     "shell.execute_reply.started": "2025-05-11T19:52:22.431889Z"
    },
    "trusted": true
   },
   "outputs": [
    {
     "name": "stdout",
     "output_type": "stream",
     "text": [
      "9\n"
     ]
    }
   ],
   "source": [
    "n_tags = len(tags)\n",
    "print(n_tags)"
   ]
  },
  {
   "cell_type": "code",
   "execution_count": 171,
   "metadata": {
    "execution": {
     "iopub.execute_input": "2025-05-11T19:52:26.174198Z",
     "iopub.status.busy": "2025-05-11T19:52:26.173718Z",
     "iopub.status.idle": "2025-05-11T19:52:26.179101Z",
     "shell.execute_reply": "2025-05-11T19:52:26.178557Z",
     "shell.execute_reply.started": "2025-05-11T19:52:26.174173Z"
    },
    "trusted": true
   },
   "outputs": [
    {
     "data": {
      "text/plain": [
       "{0: 'O',\n",
       " 1: 'B-PER',\n",
       " 2: 'I-PER',\n",
       " 3: 'B-ORG',\n",
       " 4: 'I-ORG',\n",
       " 5: 'B-LOC',\n",
       " 6: 'I-LOC',\n",
       " 7: 'B-MISC',\n",
       " 8: 'I-MISC'}"
      ]
     },
     "execution_count": 171,
     "metadata": {},
     "output_type": "execute_result"
    }
   ],
   "source": [
    "idx2label = {idx:label for idx, label in enumerate(tags)}\n",
    "idx2label"
   ]
  },
  {
   "cell_type": "markdown",
   "metadata": {},
   "source": [
    "## Map to ids"
   ]
  },
  {
   "cell_type": "code",
   "execution_count": null,
   "metadata": {
    "execution": {
     "iopub.execute_input": "2025-05-11T19:52:30.054197Z",
     "iopub.status.busy": "2025-05-11T19:52:30.053918Z",
     "iopub.status.idle": "2025-05-11T19:52:32.352259Z",
     "shell.execute_reply": "2025-05-11T19:52:32.351522Z",
     "shell.execute_reply.started": "2025-05-11T19:52:30.054171Z"
    },
    "trusted": true
   },
   "outputs": [],
   "source": [
    "def tokens_to_ids(example):\n",
    "    example['input_ids'] = [vocab.get(token, vocab['<UNK>']) for token in example['tokens']]\n",
    "    return example\n",
    "\n",
    "dataset = dataset.map(tokens_to_ids)"
   ]
  },
  {
   "cell_type": "code",
   "execution_count": null,
   "metadata": {
    "execution": {
     "iopub.execute_input": "2025-05-11T19:52:32.353853Z",
     "iopub.status.busy": "2025-05-11T19:52:32.353647Z",
     "iopub.status.idle": "2025-05-11T19:52:34.369998Z",
     "shell.execute_reply": "2025-05-11T19:52:34.369115Z",
     "shell.execute_reply.started": "2025-05-11T19:52:32.353836Z"
    },
    "trusted": true
   },
   "outputs": [],
   "source": [
    "dataset = dataset.map(lambda x: {'len': len(x['tokens'])})"
   ]
  },
  {
   "cell_type": "markdown",
   "metadata": {},
   "source": [
    "## Dataset class"
   ]
  },
  {
   "cell_type": "code",
   "execution_count": 174,
   "metadata": {
    "execution": {
     "iopub.execute_input": "2025-05-11T19:52:34.371019Z",
     "iopub.status.busy": "2025-05-11T19:52:34.370820Z",
     "iopub.status.idle": "2025-05-11T19:52:34.375826Z",
     "shell.execute_reply": "2025-05-11T19:52:34.375204Z",
     "shell.execute_reply.started": "2025-05-11T19:52:34.371003Z"
    },
    "trusted": true
   },
   "outputs": [],
   "source": [
    "class NERDataset(Dataset):\n",
    "    def __init__(self, dataset):\n",
    "        self.dataset = dataset\n",
    "\n",
    "    def __len__(self):\n",
    "        return len(self.dataset)\n",
    "    def __getitem__(self, idx):\n",
    "        data = self.dataset[idx]\n",
    "        return torch.tensor(data['input_ids']), torch.tensor(data['ner_tags']), torch.tensor(data['len'])\n",
    "        "
   ]
  },
  {
   "cell_type": "code",
   "execution_count": 175,
   "metadata": {
    "execution": {
     "iopub.execute_input": "2025-05-11T19:52:34.377471Z",
     "iopub.status.busy": "2025-05-11T19:52:34.377242Z",
     "iopub.status.idle": "2025-05-11T19:52:34.403591Z",
     "shell.execute_reply": "2025-05-11T19:52:34.403022Z",
     "shell.execute_reply.started": "2025-05-11T19:52:34.377456Z"
    },
    "trusted": true
   },
   "outputs": [],
   "source": [
    "label_pad_idx = -100"
   ]
  },
  {
   "cell_type": "code",
   "execution_count": 176,
   "metadata": {
    "execution": {
     "iopub.execute_input": "2025-05-11T19:52:34.404499Z",
     "iopub.status.busy": "2025-05-11T19:52:34.404260Z",
     "iopub.status.idle": "2025-05-11T19:52:34.416765Z",
     "shell.execute_reply": "2025-05-11T19:52:34.416078Z",
     "shell.execute_reply.started": "2025-05-11T19:52:34.404484Z"
    },
    "trusted": true
   },
   "outputs": [],
   "source": [
    "def collate_fn(batch):\n",
    "    input_ids, labels, lengths_list = zip(*batch)\n",
    "\n",
    "    lengths = torch.tensor(lengths_list)\n",
    "    \n",
    "    lengths, idx = lengths.sort(descending=True)\n",
    "    input_ids = [input_ids[i] for i in idx]\n",
    "    labels = [labels[i] for i in idx]\n",
    "\n",
    "    padded_inputs = pad_sequence(input_ids, batch_first=True, padding_value=vocab['<PAD>'])\n",
    "    padded_labels = pad_sequence(labels, batch_first=True, padding_value=label_pad_idx)  \n",
    "\n",
    "    return padded_inputs, padded_labels, lengths"
   ]
  },
  {
   "cell_type": "markdown",
   "metadata": {},
   "source": [
    "## Datasets"
   ]
  },
  {
   "cell_type": "code",
   "execution_count": 177,
   "metadata": {
    "execution": {
     "iopub.execute_input": "2025-05-11T19:52:34.417649Z",
     "iopub.status.busy": "2025-05-11T19:52:34.417428Z",
     "iopub.status.idle": "2025-05-11T19:52:34.432501Z",
     "shell.execute_reply": "2025-05-11T19:52:34.431749Z",
     "shell.execute_reply.started": "2025-05-11T19:52:34.417626Z"
    },
    "trusted": true
   },
   "outputs": [],
   "source": [
    "train_dataset = NERDataset(dataset['train'])\n",
    "val_dataset = NERDataset(dataset['validation'])\n",
    "test_dataset = NERDataset(dataset['test'])"
   ]
  },
  {
   "cell_type": "markdown",
   "metadata": {},
   "source": [
    "## Dataloaders"
   ]
  },
  {
   "cell_type": "code",
   "execution_count": 178,
   "metadata": {
    "execution": {
     "iopub.execute_input": "2025-05-11T19:52:34.433380Z",
     "iopub.status.busy": "2025-05-11T19:52:34.433154Z",
     "iopub.status.idle": "2025-05-11T19:52:34.449594Z",
     "shell.execute_reply": "2025-05-11T19:52:34.448971Z",
     "shell.execute_reply.started": "2025-05-11T19:52:34.433362Z"
    },
    "trusted": true
   },
   "outputs": [],
   "source": [
    "train_loader = torch.utils.data.DataLoader(train_dataset, batch_size=16, num_workers=2, shuffle=True, collate_fn=collate_fn)\n",
    "test_loader = torch.utils.data.DataLoader(val_dataset, batch_size=16, shuffle=False, collate_fn=collate_fn)\n",
    "test_loader = torch.utils.data.DataLoader(test_dataset, batch_size=16, shuffle=False, collate_fn=collate_fn)"
   ]
  },
  {
   "cell_type": "markdown",
   "metadata": {},
   "source": [
    "# Model Class"
   ]
  },
  {
   "cell_type": "code",
   "execution_count": 179,
   "metadata": {
    "execution": {
     "iopub.execute_input": "2025-05-11T19:52:36.204273Z",
     "iopub.status.busy": "2025-05-11T19:52:36.203613Z",
     "iopub.status.idle": "2025-05-11T19:52:36.209868Z",
     "shell.execute_reply": "2025-05-11T19:52:36.209131Z",
     "shell.execute_reply.started": "2025-05-11T19:52:36.204248Z"
    },
    "trusted": true
   },
   "outputs": [],
   "source": [
    "class NERTagger(nn.Module):\n",
    "    def __init__(self, vocab_size, embedding_dim, hidden_dim, output_dim, n_layers, bidirectional, dropout, pad_idx):\n",
    "        super().__init__()\n",
    "        self.embedding = nn.Embedding(vocab_size, embedding_dim, padding_idx=pad_idx)\n",
    "        self.lstm = nn.LSTM(\n",
    "            embedding_dim,\n",
    "            hidden_dim,\n",
    "            num_layers=n_layers,\n",
    "            bidirectional=bidirectional,\n",
    "            dropout=dropout if n_layers > 1 else 0,\n",
    "            batch_first=True\n",
    "        )\n",
    "        lstm_output_dim = hidden_dim * 2 if bidirectional else hidden_dim\n",
    "        self.fc = nn.Linear(lstm_output_dim, output_dim)\n",
    "        self.dropout = nn.Dropout(dropout)\n",
    "\n",
    "    def forward(self, text, lengths):\n",
    "        embedded = self.embedding(text)\n",
    "        packed_embedded = pack_padded_sequence(embedded, lengths, batch_first=True, enforce_sorted=True)\n",
    "        packed_output, _ = self.lstm(packed_embedded)\n",
    "        lstm_out, _ = pad_packed_sequence(packed_output, batch_first=True)\n",
    "\n",
    "        lstm_out = self.dropout(lstm_out)\n",
    "        logits = self.fc(lstm_out) \n",
    "        \n",
    "        return logits"
   ]
  },
  {
   "cell_type": "markdown",
   "metadata": {},
   "source": [
    "# Training Loop"
   ]
  },
  {
   "cell_type": "code",
   "execution_count": 185,
   "metadata": {
    "execution": {
     "iopub.execute_input": "2025-05-11T19:54:04.390272Z",
     "iopub.status.busy": "2025-05-11T19:54:04.389964Z",
     "iopub.status.idle": "2025-05-11T19:54:04.398447Z",
     "shell.execute_reply": "2025-05-11T19:54:04.397701Z",
     "shell.execute_reply.started": "2025-05-11T19:54:04.390250Z"
    },
    "trusted": true
   },
   "outputs": [],
   "source": [
    "def training_loop(model, train_loader, optimizer, criterion, epochs, device, label_pad_idx):\n",
    "    model.train()\n",
    "    losses = []\n",
    "    accuracies = []\n",
    "\n",
    "    for epoch in range(epochs):\n",
    "        running_loss = 0.0\n",
    "        total_correct = 0\n",
    "        total_tokens = 0\n",
    "\n",
    "        progress_bar = tqdm.tqdm(train_loader, desc=f\"Epoch {epoch + 1} / {epochs}\")\n",
    "        for inputs, labels, lengths in progress_bar:\n",
    "            inputs = inputs.to(device)\n",
    "            labels = labels.to(device)\n",
    "\n",
    "            optimizer.zero_grad()\n",
    "            outputs = model(inputs, lengths)\n",
    "\n",
    "            loss = criterion(outputs.view(-1, outputs.shape[-1]), labels.view(-1))\n",
    "            loss.backward()\n",
    "            optimizer.step()\n",
    "\n",
    "            running_loss += loss.item() * labels.size(0)\n",
    "\n",
    "            preds = torch.argmax(outputs, dim=2)  \n",
    "            mask = labels != label_pad_idx\n",
    "            total_correct += ((preds == labels) & mask).sum().item()\n",
    "            total_tokens += mask.sum().item()\n",
    "\n",
    "            avg_batch_loss = running_loss / total_tokens\n",
    "            batch_accuracy = total_correct / total_tokens\n",
    "            progress_bar.set_postfix(loss=f\"{avg_batch_loss:.4f}\", accuracy=f\"{batch_accuracy:.4f}\")\n",
    "\n",
    "        epoch_loss = running_loss / total_tokens\n",
    "        epoch_accuracy = total_correct / total_tokens\n",
    "        losses.append(epoch_loss)\n",
    "        accuracies.append(epoch_accuracy)\n",
    "\n",
    "    return losses, accuracies"
   ]
  },
  {
   "cell_type": "code",
   "execution_count": 209,
   "metadata": {
    "execution": {
     "iopub.execute_input": "2025-05-11T20:02:14.117626Z",
     "iopub.status.busy": "2025-05-11T20:02:14.117022Z",
     "iopub.status.idle": "2025-05-11T20:02:14.121723Z",
     "shell.execute_reply": "2025-05-11T20:02:14.120849Z",
     "shell.execute_reply.started": "2025-05-11T20:02:14.117597Z"
    },
    "trusted": true
   },
   "outputs": [],
   "source": [
    "embedding_dim = 500\n",
    "hidden_dim = 256\n",
    "pad_idx = vocab['<PAD>']\n",
    "output_dim = n_tags"
   ]
  },
  {
   "cell_type": "markdown",
   "metadata": {},
   "source": [
    "## Model 1\n",
    "\n",
    "- uni direction\n",
    "- 1 layer"
   ]
  },
  {
   "cell_type": "code",
   "execution_count": 210,
   "metadata": {
    "execution": {
     "iopub.execute_input": "2025-05-11T20:02:14.990124Z",
     "iopub.status.busy": "2025-05-11T20:02:14.989838Z",
     "iopub.status.idle": "2025-05-11T20:02:14.994039Z",
     "shell.execute_reply": "2025-05-11T20:02:14.993344Z",
     "shell.execute_reply.started": "2025-05-11T20:02:14.990104Z"
    },
    "trusted": true
   },
   "outputs": [],
   "source": [
    "n_layers = 1\n",
    "bidirectional = False\n",
    "dropout = 0.5"
   ]
  },
  {
   "cell_type": "code",
   "execution_count": 211,
   "metadata": {
    "execution": {
     "iopub.execute_input": "2025-05-11T20:02:15.327454Z",
     "iopub.status.busy": "2025-05-11T20:02:15.327091Z",
     "iopub.status.idle": "2025-05-11T20:02:15.464760Z",
     "shell.execute_reply": "2025-05-11T20:02:15.464194Z",
     "shell.execute_reply.started": "2025-05-11T20:02:15.327434Z"
    },
    "trusted": true
   },
   "outputs": [],
   "source": [
    "model = NERTagger(vocab_size, embedding_dim, hidden_dim, output_dim, n_layers, bidirectional, dropout, pad_idx)\n",
    "device = torch.device('cuda' if torch.cuda.is_available() else 'cpu')\n",
    "model = model.to(device)\n",
    "optimizer = torch.optim.Adam(model.parameters(), lr=0.001)\n",
    "criterion = nn.CrossEntropyLoss(ignore_index=label_pad_idx)\n",
    "epochs = 10"
   ]
  },
  {
   "cell_type": "code",
   "execution_count": null,
   "metadata": {
    "execution": {
     "iopub.execute_input": "2025-05-11T20:02:15.633506Z",
     "iopub.status.busy": "2025-05-11T20:02:15.632863Z",
     "iopub.status.idle": "2025-05-11T20:04:07.110594Z",
     "shell.execute_reply": "2025-05-11T20:04:07.109689Z",
     "shell.execute_reply.started": "2025-05-11T20:02:15.633477Z"
    },
    "trusted": true
   },
   "outputs": [],
   "source": [
    "losses_1, accuracies_1 = training_loop(model,\n",
    "                                   train_loader,\n",
    "                                   optimizer,\n",
    "                                   criterion,\n",
    "                                   epochs,\n",
    "                                   device,\n",
    "                                   label_pad_idx)"
   ]
  },
  {
   "cell_type": "markdown",
   "metadata": {},
   "source": [
    "## Model 2\n",
    "\n",
    "- bi-directional\n",
    "- 1 layer"
   ]
  },
  {
   "cell_type": "code",
   "execution_count": 215,
   "metadata": {
    "execution": {
     "iopub.execute_input": "2025-05-11T20:05:56.126268Z",
     "iopub.status.busy": "2025-05-11T20:05:56.125770Z",
     "iopub.status.idle": "2025-05-11T20:05:56.130126Z",
     "shell.execute_reply": "2025-05-11T20:05:56.129441Z",
     "shell.execute_reply.started": "2025-05-11T20:05:56.126245Z"
    },
    "trusted": true
   },
   "outputs": [],
   "source": [
    "n_layers = 1\n",
    "bidirectional = True\n",
    "dropout = 0.5"
   ]
  },
  {
   "cell_type": "code",
   "execution_count": 216,
   "metadata": {
    "execution": {
     "iopub.execute_input": "2025-05-11T20:05:56.309900Z",
     "iopub.status.busy": "2025-05-11T20:05:56.309174Z",
     "iopub.status.idle": "2025-05-11T20:05:56.452652Z",
     "shell.execute_reply": "2025-05-11T20:05:56.452088Z",
     "shell.execute_reply.started": "2025-05-11T20:05:56.309879Z"
    },
    "trusted": true
   },
   "outputs": [],
   "source": [
    "model_2 = NERTagger(vocab_size, embedding_dim, hidden_dim, output_dim, n_layers, bidirectional, dropout, pad_idx)\n",
    "device = torch.device('cuda' if torch.cuda.is_available() else 'cpu')\n",
    "model_2 = model_2.to(device)\n",
    "optimizer = torch.optim.Adam(model_2.parameters(), lr=0.001)\n",
    "criterion = nn.CrossEntropyLoss(ignore_index=label_pad_idx)\n",
    "epochs = 10"
   ]
  },
  {
   "cell_type": "code",
   "execution_count": null,
   "metadata": {
    "execution": {
     "iopub.execute_input": "2025-05-11T20:05:56.515509Z",
     "iopub.status.busy": "2025-05-11T20:05:56.515240Z",
     "iopub.status.idle": "2025-05-11T20:08:04.422111Z",
     "shell.execute_reply": "2025-05-11T20:08:04.421320Z",
     "shell.execute_reply.started": "2025-05-11T20:05:56.515492Z"
    },
    "trusted": true
   },
   "outputs": [],
   "source": [
    "losses_2, accuracies_2 = training_loop(model_2,\n",
    "                                   train_loader,\n",
    "                                   optimizer,\n",
    "                                   criterion,\n",
    "                                   epochs,\n",
    "                                   device,\n",
    "                                   label_pad_idx)"
   ]
  },
  {
   "cell_type": "markdown",
   "metadata": {},
   "source": [
    "## Model 3\n",
    "\n",
    "- uni direction\n",
    "- 2 layer"
   ]
  },
  {
   "cell_type": "code",
   "execution_count": 218,
   "metadata": {
    "execution": {
     "iopub.execute_input": "2025-05-11T20:08:04.424086Z",
     "iopub.status.busy": "2025-05-11T20:08:04.423848Z",
     "iopub.status.idle": "2025-05-11T20:08:04.428503Z",
     "shell.execute_reply": "2025-05-11T20:08:04.427856Z",
     "shell.execute_reply.started": "2025-05-11T20:08:04.424064Z"
    },
    "trusted": true
   },
   "outputs": [],
   "source": [
    "n_layers = 2\n",
    "bidirectional = False\n",
    "dropout = 0.5"
   ]
  },
  {
   "cell_type": "code",
   "execution_count": 219,
   "metadata": {
    "execution": {
     "iopub.execute_input": "2025-05-11T20:08:04.429959Z",
     "iopub.status.busy": "2025-05-11T20:08:04.429427Z",
     "iopub.status.idle": "2025-05-11T20:08:04.600004Z",
     "shell.execute_reply": "2025-05-11T20:08:04.599236Z",
     "shell.execute_reply.started": "2025-05-11T20:08:04.429941Z"
    },
    "trusted": true
   },
   "outputs": [],
   "source": [
    "model_3 = NERTagger(vocab_size, embedding_dim, hidden_dim, output_dim, n_layers, bidirectional, dropout, pad_idx)\n",
    "device = torch.device('cuda' if torch.cuda.is_available() else 'cpu')\n",
    "model_2 = model_3.to(device)\n",
    "optimizer = torch.optim.Adam(model_3.parameters(), lr=0.001)\n",
    "criterion = nn.CrossEntropyLoss(ignore_index=label_pad_idx)\n",
    "epochs = 10"
   ]
  },
  {
   "cell_type": "code",
   "execution_count": null,
   "metadata": {
    "execution": {
     "iopub.execute_input": "2025-05-11T20:08:04.602452Z",
     "iopub.status.busy": "2025-05-11T20:08:04.601685Z",
     "iopub.status.idle": "2025-05-11T20:10:11.458174Z",
     "shell.execute_reply": "2025-05-11T20:10:11.457433Z",
     "shell.execute_reply.started": "2025-05-11T20:08:04.602424Z"
    },
    "trusted": true
   },
   "outputs": [],
   "source": [
    "losses_3, accuracies_3 = training_loop(model_3,\n",
    "                                   train_loader,\n",
    "                                   optimizer,\n",
    "                                   criterion,\n",
    "                                   epochs,\n",
    "                                   device,\n",
    "                                   label_pad_idx)"
   ]
  },
  {
   "cell_type": "markdown",
   "metadata": {},
   "source": [
    "## Model 4\n",
    "\n",
    "- bi-direction\n",
    "- 2 layer"
   ]
  },
  {
   "cell_type": "code",
   "execution_count": 221,
   "metadata": {
    "execution": {
     "iopub.execute_input": "2025-05-11T20:10:11.459687Z",
     "iopub.status.busy": "2025-05-11T20:10:11.459434Z",
     "iopub.status.idle": "2025-05-11T20:10:11.463886Z",
     "shell.execute_reply": "2025-05-11T20:10:11.463018Z",
     "shell.execute_reply.started": "2025-05-11T20:10:11.459664Z"
    },
    "trusted": true
   },
   "outputs": [],
   "source": [
    "n_layers = 2\n",
    "bidirectional = True\n",
    "dropout = 0.5"
   ]
  },
  {
   "cell_type": "code",
   "execution_count": 222,
   "metadata": {
    "execution": {
     "iopub.execute_input": "2025-05-11T20:10:11.464951Z",
     "iopub.status.busy": "2025-05-11T20:10:11.464733Z",
     "iopub.status.idle": "2025-05-11T20:10:11.633399Z",
     "shell.execute_reply": "2025-05-11T20:10:11.632780Z",
     "shell.execute_reply.started": "2025-05-11T20:10:11.464934Z"
    },
    "trusted": true
   },
   "outputs": [],
   "source": [
    "model_4 = NERTagger(vocab_size, embedding_dim, hidden_dim, output_dim, n_layers, bidirectional, dropout, pad_idx)\n",
    "device = torch.device('cuda' if torch.cuda.is_available() else 'cpu')\n",
    "model_2 = model_4.to(device)\n",
    "optimizer = torch.optim.Adam(model_4.parameters(), lr=0.001)\n",
    "criterion = nn.CrossEntropyLoss(ignore_index=label_pad_idx)\n",
    "epochs = 10"
   ]
  },
  {
   "cell_type": "code",
   "execution_count": null,
   "metadata": {
    "execution": {
     "iopub.execute_input": "2025-05-11T20:10:11.634356Z",
     "iopub.status.busy": "2025-05-11T20:10:11.634128Z",
     "iopub.status.idle": "2025-05-11T20:12:49.824628Z",
     "shell.execute_reply": "2025-05-11T20:12:49.823797Z",
     "shell.execute_reply.started": "2025-05-11T20:10:11.634340Z"
    },
    "trusted": true
   },
   "outputs": [],
   "source": [
    "losses_4, accuracies_4 = training_loop(model_4,\n",
    "                                   train_loader,\n",
    "                                   optimizer,\n",
    "                                   criterion,\n",
    "                                   epochs,\n",
    "                                   device,\n",
    "                                   label_pad_idx)"
   ]
  },
  {
   "cell_type": "markdown",
   "metadata": {},
   "source": [
    "# Results"
   ]
  },
  {
   "cell_type": "code",
   "execution_count": 224,
   "metadata": {
    "execution": {
     "iopub.execute_input": "2025-05-11T20:12:49.825934Z",
     "iopub.status.busy": "2025-05-11T20:12:49.825679Z",
     "iopub.status.idle": "2025-05-11T20:12:50.237269Z",
     "shell.execute_reply": "2025-05-11T20:12:50.236566Z",
     "shell.execute_reply.started": "2025-05-11T20:12:49.825899Z"
    },
    "trusted": true
   },
   "outputs": [
    {
     "data": {
      "image/png": "[encoded data removed]",
      "text/plain": [
       "<Figure size 1800x500 with 2 Axes>"
      ]
     },
     "metadata": {},
     "output_type": "display_data"
    }
   ],
   "source": [
    "fig, ax = plt.subplots(1, 2, figsize=(18, 5))\n",
    "ax[0].plot(losses_1)\n",
    "ax[0].plot(losses_2)\n",
    "ax[0].plot(losses_3)\n",
    "ax[0].plot(losses_4)\n",
    "ax[0].set_title(\"loss Reslut\")\n",
    "ax[0].legend(['Model 1', 'Model 2', 'Model 3', 'Model 4'])\n",
    "\n",
    "ax[1].plot(accuracies_1)\n",
    "ax[1].plot(accuracies_2)\n",
    "ax[1].plot(accuracies_3)\n",
    "ax[1].plot(accuracies_4)\n",
    "ax[1].set_title(\"Training Reslut\")\n",
    "ax[1].legend(['Model 1', 'Model 2', 'Model 3', 'Model 4'])\n",
    "\n",
    "plt.tight_layout()\n",
    "plt.show()"
   ]
  },
  {
   "cell_type": "markdown",
   "metadata": {},
   "source": [
    "# Inferance"
   ]
  },
  {
   "cell_type": "code",
   "execution_count": 225,
   "metadata": {
    "execution": {
     "iopub.execute_input": "2025-05-11T20:12:50.238533Z",
     "iopub.status.busy": "2025-05-11T20:12:50.238226Z",
     "iopub.status.idle": "2025-05-11T20:12:50.245764Z",
     "shell.execute_reply": "2025-05-11T20:12:50.244992Z",
     "shell.execute_reply.started": "2025-05-11T20:12:50.238509Z"
    },
    "trusted": true
   },
   "outputs": [],
   "source": [
    "def inference_loop(model, data_loader, device, idx_to_label=None, max_examples=20):\n",
    "    model.eval()\n",
    "    examples_shown = 0\n",
    "    total_correct = 0\n",
    "    total_tokens = 0\n",
    "\n",
    "    with torch.inference_mode():\n",
    "        for inputs, labels, lengths in data_loader:\n",
    "            inputs = inputs.to(device)\n",
    "            labels = labels.to(device)\n",
    "\n",
    "            outputs = model(inputs, lengths)\n",
    "\n",
    "            preds = torch.argmax(outputs, dim=2)  \n",
    "            mask = labels != label_pad_idx\n",
    "            total_correct += ((preds == labels) & mask).sum().item()\n",
    "            total_tokens += mask.sum().item()\n",
    "\n",
    "      \n",
    "            if examples_shown < max_examples:\n",
    "                for i in range(len(labels)):\n",
    "                    pred_label = preds[i]\n",
    "                    true_label = labels[i]\n",
    "                    \n",
    "                    print(f\"[Example {examples_shown + 1}]\")\n",
    "                    print(f\"Prediction: {[idx_to_label[label.item()] for label in pred_label if label != -100] }\")\n",
    "                    print(f\"Ground Truth: {[idx_to_label[label.item()] for label in true_label if label != -100]}\")\n",
    "                    print(\"-\" * 40)\n",
    "                    examples_shown += 1\n",
    "                    if examples_shown >= max_examples:\n",
    "                        break\n",
    "\n",
    "    accuracy = total_correct / total_tokens if total_tokens > 0 else 0\n",
    "    print(f\" Inference Accuracy: {accuracy * 100:.2f}%\")\n",
    "\n",
    "    return accuracy"
   ]
  },
  {
   "cell_type": "code",
   "execution_count": 226,
   "metadata": {
    "execution": {
     "iopub.execute_input": "2025-05-11T20:12:50.248037Z",
     "iopub.status.busy": "2025-05-11T20:12:50.247821Z",
     "iopub.status.idle": "2025-05-11T20:12:51.420567Z",
     "shell.execute_reply": "2025-05-11T20:12:51.419723Z",
     "shell.execute_reply.started": "2025-05-11T20:12:50.248021Z"
    },
    "trusted": true
   },
   "outputs": [
    {
     "name": "stdout",
     "output_type": "stream",
     "text": [
      "[Example 1]\n",
      "Prediction: ['B-LOC', 'O', 'O', 'O', 'O', 'O', 'O', 'O', 'O', 'O', 'O', 'O', 'O', 'O', 'O', 'O', 'O', 'O', 'B-PER', 'I-PER', 'O', 'O', 'O', 'O', 'O', 'O', 'O', 'O', 'O', 'O', 'O', 'O', 'O', 'O', 'B-MISC', 'O', 'O', 'O', 'O', 'O', 'O', 'O']\n",
      "Ground Truth: ['B-LOC', 'O', 'O', 'O', 'O', 'O', 'O', 'O', 'O', 'O', 'O', 'O', 'O', 'O', 'O', 'O', 'B-MISC', 'O', 'B-PER', 'I-PER', 'O', 'O', 'O', 'O', 'O', 'O', 'O', 'O', 'O', 'O', 'O', 'O', 'O', 'O', 'B-MISC', 'O', 'O', 'O', 'O', 'O', 'O', 'O']\n",
      "----------------------------------------\n",
      "[Example 2]\n",
      "Prediction: ['B-LOC', 'I-LOC', 'O', 'O', 'O', 'O', 'O', 'B-LOC', 'O', 'O', 'O', 'O', 'O', 'O', 'B-ORG', 'I-ORG', 'O', 'O', 'O', 'B-MISC', 'O', 'O', 'O', 'B-ORG', 'I-LOC', 'O', 'O', 'O', 'O', 'O', 'O', 'O', 'O', 'O', 'O', 'O', 'O', 'O', 'O', 'O', 'O', 'O']\n",
      "Ground Truth: ['B-PER', 'I-PER', 'O', 'O', 'O', 'O', 'O', 'O', 'O', 'O', 'O', 'O', 'O', 'O', 'B-PER', 'I-PER', 'O', 'O', 'O', 'B-MISC', 'O', 'O', 'O', 'B-PER', 'I-PER', 'O', 'O', 'O', 'O', 'O', 'O', 'O', 'O', 'O', 'O', 'O', 'O', 'O']\n",
      "----------------------------------------\n",
      "[Example 3]\n",
      "Prediction: ['B-ORG', 'I-PER', 'I-PER', 'O', 'O', 'O', 'O', 'O', 'O', 'O', 'O', 'O', 'O', 'O', 'O', 'O', 'O', 'O', 'O', 'O', 'O', 'O', 'O', 'O', 'O', 'O', 'O', 'B-LOC', 'O', 'O', 'O', 'O', 'O', 'O', 'O', 'O', 'O', 'O', 'O', 'O', 'O', 'O']\n",
      "Ground Truth: ['O', 'B-PER', 'I-PER', 'O', 'O', 'O', 'O', 'O', 'O', 'O', 'O', 'O', 'O', 'O', 'O', 'O', 'O', 'O', 'O', 'O', 'O', 'O', 'O', 'O', 'O', 'O', 'O', 'B-PER', 'O', 'O', 'O']\n",
      "----------------------------------------\n",
      "[Example 4]\n",
      "Prediction: ['O', 'O', 'O', 'O', 'O', 'O', 'O', 'O', 'O', 'O', 'O', 'B-LOC', 'O', 'O', 'O', 'O', 'O', 'O', 'O', 'O', 'O', 'O', 'O', 'O', 'O', 'O', 'B-LOC', 'O', 'O', 'O', 'O', 'O', 'O', 'O', 'O', 'O', 'O', 'O', 'O', 'O', 'O', 'O']\n",
      "Ground Truth: ['O', 'O', 'O', 'O', 'O', 'O', 'O', 'O', 'O', 'O', 'O', 'B-LOC', 'O', 'O', 'O', 'O', 'O', 'O', 'O', 'O', 'O', 'O', 'O', 'O', 'O', 'O', 'B-LOC', 'O']\n",
      "----------------------------------------\n",
      "[Example 5]\n",
      "Prediction: ['B-LOC', 'O', 'O', 'O', 'O', 'O', 'B-MISC', 'I-MISC', 'O', 'O', 'O', 'O', 'O', 'O', 'O', 'B-LOC', 'O', 'O', 'O', 'O', 'O', 'O', 'O', 'O', 'O', 'O', 'O', 'O', 'O', 'O', 'O', 'O', 'O', 'O', 'O', 'O', 'O', 'O', 'O', 'O', 'O', 'O']\n",
      "Ground Truth: ['B-LOC', 'O', 'O', 'O', 'O', 'O', 'B-MISC', 'I-MISC', 'O', 'O', 'O', 'O', 'O', 'O', 'O', 'B-LOC', 'O', 'O', 'O', 'O', 'O', 'O', 'O', 'O', 'O']\n",
      "----------------------------------------\n",
      "[Example 6]\n",
      "Prediction: ['O', 'B-LOC', 'O', 'O', 'O', 'O', 'O', 'O', 'O', 'O', 'O', 'O', 'O', 'O', 'O', 'O', 'O', 'O', 'O', 'O', 'O', 'O', 'O', 'B-ORG', 'O', 'O', 'O', 'O', 'O', 'O', 'O', 'O', 'O', 'O', 'O', 'O', 'O', 'O', 'O', 'O', 'O', 'O']\n",
      "Ground Truth: ['O', 'B-LOC', 'O', 'O', 'O', 'O', 'O', 'O', 'O', 'O', 'O', 'O', 'O', 'O', 'O', 'O', 'O', 'O', 'O', 'O', 'O', 'O', 'O', 'B-LOC', 'O']\n",
      "----------------------------------------\n",
      "[Example 7]\n",
      "Prediction: ['B-LOC', 'I-LOC', 'O', 'O', 'O', 'O', 'O', 'O', 'O', 'O', 'O', 'O', 'O', 'O', 'O', 'O', 'O', 'O', 'O', 'O', 'O', 'O', 'O', 'O', 'O', 'O', 'O', 'O', 'O', 'O', 'O', 'O', 'O', 'O', 'O', 'O', 'O', 'O', 'O', 'O', 'O', 'O']\n",
      "Ground Truth: ['B-PER', 'I-PER', 'O', 'O', 'O', 'O', 'O', 'O', 'O', 'O', 'O', 'O', 'O', 'O', 'O', 'O', 'O', 'O', 'O', 'O', 'O', 'O', 'O']\n",
      "----------------------------------------\n",
      "[Example 8]\n",
      "Prediction: ['B-LOC', 'O', 'O', 'O', 'O', 'O', 'B-MISC', 'O', 'O', 'O', 'O', 'O', 'O', 'O', 'O', 'O', 'O', 'O', 'B-MISC', 'O', 'O', 'O', 'O', 'O', 'O', 'O', 'O', 'O', 'O', 'O', 'O', 'O', 'O', 'O', 'O', 'O', 'O', 'O', 'O', 'O', 'O', 'O']\n",
      "Ground Truth: ['B-LOC', 'O', 'O', 'O', 'O', 'O', 'B-MISC', 'O', 'O', 'O', 'O', 'O', 'O', 'O', 'O', 'O', 'O', 'O', 'B-MISC', 'O', 'O']\n",
      "----------------------------------------\n",
      "[Example 9]\n",
      "Prediction: ['O', 'O', 'O', 'B-MISC', 'I-MISC', 'O', 'O', 'O', 'O', 'O', 'O', 'O', 'O', 'O', 'O', 'O', 'O', 'O', 'O', 'O', 'O', 'O', 'O', 'O', 'O', 'O', 'O', 'O', 'O', 'O', 'O', 'O', 'O', 'O', 'O', 'O', 'O', 'O', 'O', 'O', 'O', 'O']\n",
      "Ground Truth: ['O', 'O', 'O', 'B-MISC', 'I-MISC', 'O', 'O', 'O', 'O', 'O', 'B-LOC', 'O', 'O', 'O', 'O', 'O', 'O', 'O']\n",
      "----------------------------------------\n",
      "[Example 10]\n",
      "Prediction: ['O', 'O', 'B-MISC', 'O', 'O', 'O', 'O', 'O', 'B-MISC', 'I-MISC', 'O', 'O', 'O', 'O', 'O', 'O', 'O', 'O', 'O', 'O', 'O', 'O', 'O', 'O', 'O', 'O', 'O', 'O', 'O', 'O', 'O', 'O', 'O', 'O', 'O', 'O', 'O', 'O', 'O', 'O', 'O', 'O']\n",
      "Ground Truth: ['O', 'O', 'B-MISC', 'O', 'O', 'O', 'O', 'O', 'B-MISC', 'I-MISC', 'O', 'O', 'O', 'O', 'O', 'O', 'O']\n",
      "----------------------------------------\n",
      " Inference Accuracy: 90.70%\n"
     ]
    }
   ],
   "source": [
    "accuracy = inference_loop(model_4, test_loader, device, idx_to_label=idx2label, max_examples=10)"
   ]
  },
  {
   "cell_type": "code",
   "execution_count": 227,
   "metadata": {
    "execution": {
     "iopub.execute_input": "2025-05-11T20:12:51.422169Z",
     "iopub.status.busy": "2025-05-11T20:12:51.421548Z",
     "iopub.status.idle": "2025-05-11T20:12:52.410350Z",
     "shell.execute_reply": "2025-05-11T20:12:52.409574Z",
     "shell.execute_reply.started": "2025-05-11T20:12:51.422144Z"
    },
    "trusted": true
   },
   "outputs": [
    {
     "name": "stdout",
     "output_type": "stream",
     "text": [
      "[Example 1]\n",
      "Prediction: ['B-LOC', 'O', 'O', 'O', 'O', 'O', 'O', 'O', 'O', 'O', 'O', 'O', 'O', 'O', 'O', 'O', 'B-PER', 'O', 'B-PER', 'I-PER', 'O', 'O', 'O', 'O', 'O', 'O', 'O', 'O', 'O', 'O', 'O', 'O', 'O', 'O', 'B-MISC', 'O', 'O', 'O', 'O', 'O', 'O', 'O']\n",
      "Ground Truth: ['B-LOC', 'O', 'O', 'O', 'O', 'O', 'O', 'O', 'O', 'O', 'O', 'O', 'O', 'O', 'O', 'O', 'B-MISC', 'O', 'B-PER', 'I-PER', 'O', 'O', 'O', 'O', 'O', 'O', 'O', 'O', 'O', 'O', 'O', 'O', 'O', 'O', 'B-MISC', 'O', 'O', 'O', 'O', 'O', 'O', 'O']\n",
      "----------------------------------------\n",
      "[Example 2]\n",
      "Prediction: ['O', 'O', 'O', 'O', 'O', 'O', 'O', 'O', 'O', 'O', 'O', 'O', 'O', 'O', 'O', 'O', 'O', 'O', 'O', 'B-MISC', 'O', 'O', 'O', 'B-PER', 'I-PER', 'O', 'O', 'O', 'O', 'O', 'O', 'O', 'O', 'O', 'O', 'O', 'O', 'O', 'O', 'O', 'O', 'O']\n",
      "Ground Truth: ['B-PER', 'I-PER', 'O', 'O', 'O', 'O', 'O', 'O', 'O', 'O', 'O', 'O', 'O', 'O', 'B-PER', 'I-PER', 'O', 'O', 'O', 'B-MISC', 'O', 'O', 'O', 'B-PER', 'I-PER', 'O', 'O', 'O', 'O', 'O', 'O', 'O', 'O', 'O', 'O', 'O', 'O', 'O']\n",
      "----------------------------------------\n",
      "[Example 3]\n",
      "Prediction: ['O', 'I-PER', 'I-PER', 'O', 'O', 'O', 'O', 'O', 'O', 'O', 'O', 'O', 'O', 'O', 'O', 'O', 'O', 'O', 'O', 'O', 'O', 'O', 'O', 'O', 'O', 'O', 'O', 'O', 'O', 'O', 'O', 'O', 'O', 'O', 'O', 'O', 'O', 'O', 'O', 'O', 'O', 'O']\n",
      "Ground Truth: ['O', 'B-PER', 'I-PER', 'O', 'O', 'O', 'O', 'O', 'O', 'O', 'O', 'O', 'O', 'O', 'O', 'O', 'O', 'O', 'O', 'O', 'O', 'O', 'O', 'O', 'O', 'O', 'O', 'B-PER', 'O', 'O', 'O']\n",
      "----------------------------------------\n",
      "[Example 4]\n",
      "Prediction: ['O', 'O', 'O', 'O', 'O', 'O', 'O', 'O', 'O', 'O', 'O', 'B-LOC', 'O', 'O', 'O', 'O', 'O', 'O', 'O', 'O', 'O', 'O', 'O', 'O', 'O', 'O', 'B-LOC', 'O', 'O', 'O', 'O', 'O', 'O', 'O', 'O', 'O', 'O', 'O', 'O', 'O', 'O', 'O']\n",
      "Ground Truth: ['O', 'O', 'O', 'O', 'O', 'O', 'O', 'O', 'O', 'O', 'O', 'B-LOC', 'O', 'O', 'O', 'O', 'O', 'O', 'O', 'O', 'O', 'O', 'O', 'O', 'O', 'O', 'B-LOC', 'O']\n",
      "----------------------------------------\n",
      "[Example 5]\n",
      "Prediction: ['B-LOC', 'O', 'O', 'O', 'O', 'O', 'B-MISC', 'I-MISC', 'O', 'O', 'O', 'O', 'O', 'O', 'O', 'B-LOC', 'O', 'O', 'O', 'O', 'O', 'O', 'O', 'O', 'O', 'O', 'O', 'O', 'O', 'O', 'O', 'O', 'O', 'O', 'O', 'O', 'O', 'O', 'O', 'O', 'O', 'O']\n",
      "Ground Truth: ['B-LOC', 'O', 'O', 'O', 'O', 'O', 'B-MISC', 'I-MISC', 'O', 'O', 'O', 'O', 'O', 'O', 'O', 'B-LOC', 'O', 'O', 'O', 'O', 'O', 'O', 'O', 'O', 'O']\n",
      "----------------------------------------\n",
      "[Example 6]\n",
      "Prediction: ['O', 'B-LOC', 'O', 'O', 'O', 'O', 'O', 'O', 'O', 'O', 'O', 'O', 'O', 'O', 'O', 'O', 'O', 'O', 'O', 'O', 'O', 'O', 'O', 'O', 'O', 'O', 'O', 'O', 'O', 'O', 'O', 'O', 'O', 'O', 'O', 'O', 'O', 'O', 'O', 'O', 'O', 'O']\n",
      "Ground Truth: ['O', 'B-LOC', 'O', 'O', 'O', 'O', 'O', 'O', 'O', 'O', 'O', 'O', 'O', 'O', 'O', 'O', 'O', 'O', 'O', 'O', 'O', 'O', 'O', 'B-LOC', 'O']\n",
      "----------------------------------------\n",
      "[Example 7]\n",
      "Prediction: ['O', 'O', 'O', 'O', 'O', 'O', 'O', 'O', 'O', 'O', 'O', 'O', 'O', 'O', 'O', 'O', 'O', 'O', 'O', 'O', 'O', 'O', 'O', 'O', 'O', 'O', 'O', 'O', 'O', 'O', 'O', 'O', 'O', 'O', 'O', 'O', 'O', 'O', 'O', 'O', 'O', 'O']\n",
      "Ground Truth: ['B-PER', 'I-PER', 'O', 'O', 'O', 'O', 'O', 'O', 'O', 'O', 'O', 'O', 'O', 'O', 'O', 'O', 'O', 'O', 'O', 'O', 'O', 'O', 'O']\n",
      "----------------------------------------\n",
      "[Example 8]\n",
      "Prediction: ['B-LOC', 'O', 'O', 'O', 'O', 'O', 'B-MISC', 'O', 'O', 'O', 'O', 'O', 'O', 'O', 'O', 'O', 'O', 'O', 'B-MISC', 'O', 'O', 'O', 'O', 'O', 'O', 'O', 'O', 'O', 'O', 'O', 'O', 'O', 'O', 'O', 'O', 'O', 'O', 'O', 'O', 'O', 'O', 'O']\n",
      "Ground Truth: ['B-LOC', 'O', 'O', 'O', 'O', 'O', 'B-MISC', 'O', 'O', 'O', 'O', 'O', 'O', 'O', 'O', 'O', 'O', 'O', 'B-MISC', 'O', 'O']\n",
      "----------------------------------------\n",
      "[Example 9]\n",
      "Prediction: ['O', 'O', 'O', 'B-MISC', 'I-MISC', 'O', 'O', 'O', 'O', 'O', 'O', 'O', 'O', 'O', 'O', 'O', 'O', 'O', 'O', 'O', 'O', 'O', 'O', 'O', 'O', 'O', 'O', 'O', 'O', 'O', 'O', 'O', 'O', 'O', 'O', 'O', 'O', 'O', 'O', 'O', 'O', 'O']\n",
      "Ground Truth: ['O', 'O', 'O', 'B-MISC', 'I-MISC', 'O', 'O', 'O', 'O', 'O', 'B-LOC', 'O', 'O', 'O', 'O', 'O', 'O', 'O']\n",
      "----------------------------------------\n",
      "[Example 10]\n",
      "Prediction: ['O', 'O', 'B-MISC', 'O', 'O', 'O', 'O', 'O', 'B-MISC', 'I-MISC', 'O', 'O', 'O', 'O', 'O', 'O', 'O', 'O', 'O', 'O', 'O', 'O', 'O', 'O', 'O', 'O', 'O', 'O', 'O', 'O', 'O', 'O', 'O', 'O', 'O', 'O', 'O', 'O', 'O', 'O', 'O', 'O']\n",
      "Ground Truth: ['O', 'O', 'B-MISC', 'O', 'O', 'O', 'O', 'O', 'B-MISC', 'I-MISC', 'O', 'O', 'O', 'O', 'O', 'O', 'O']\n",
      "----------------------------------------\n",
      " Inference Accuracy: 93.37%\n"
     ]
    }
   ],
   "source": [
    "accuracy = inference_loop(model_3, test_loader, device, idx_to_label=idx2label, max_examples=10)"
   ]
  },
  {
   "cell_type": "code",
   "execution_count": 228,
   "metadata": {
    "execution": {
     "iopub.execute_input": "2025-05-11T20:12:52.411651Z",
     "iopub.status.busy": "2025-05-11T20:12:52.411135Z",
     "iopub.status.idle": "2025-05-11T20:12:53.547663Z",
     "shell.execute_reply": "2025-05-11T20:12:53.547008Z",
     "shell.execute_reply.started": "2025-05-11T20:12:52.411625Z"
    },
    "trusted": true
   },
   "outputs": [
    {
     "name": "stdout",
     "output_type": "stream",
     "text": [
      "[Example 1]\n",
      "Prediction: ['B-LOC', 'O', 'O', 'O', 'O', 'O', 'O', 'O', 'O', 'O', 'O', 'O', 'O', 'O', 'O', 'O', 'O', 'O', 'B-PER', 'I-PER', 'O', 'O', 'O', 'O', 'O', 'O', 'O', 'O', 'O', 'O', 'O', 'O', 'O', 'O', 'B-MISC', 'O', 'O', 'O', 'O', 'O', 'O', 'O']\n",
      "Ground Truth: ['B-LOC', 'O', 'O', 'O', 'O', 'O', 'O', 'O', 'O', 'O', 'O', 'O', 'O', 'O', 'O', 'O', 'B-MISC', 'O', 'B-PER', 'I-PER', 'O', 'O', 'O', 'O', 'O', 'O', 'O', 'O', 'O', 'O', 'O', 'O', 'O', 'O', 'B-MISC', 'O', 'O', 'O', 'O', 'O', 'O', 'O']\n",
      "----------------------------------------\n",
      "[Example 2]\n",
      "Prediction: ['B-LOC', 'I-LOC', 'O', 'O', 'O', 'O', 'O', 'B-LOC', 'O', 'O', 'O', 'O', 'O', 'O', 'B-ORG', 'I-ORG', 'O', 'O', 'O', 'B-MISC', 'O', 'O', 'O', 'B-ORG', 'I-LOC', 'O', 'O', 'O', 'O', 'O', 'O', 'O', 'O', 'O', 'O', 'O', 'O', 'O', 'O', 'O', 'O', 'O']\n",
      "Ground Truth: ['B-PER', 'I-PER', 'O', 'O', 'O', 'O', 'O', 'O', 'O', 'O', 'O', 'O', 'O', 'O', 'B-PER', 'I-PER', 'O', 'O', 'O', 'B-MISC', 'O', 'O', 'O', 'B-PER', 'I-PER', 'O', 'O', 'O', 'O', 'O', 'O', 'O', 'O', 'O', 'O', 'O', 'O', 'O']\n",
      "----------------------------------------\n",
      "[Example 3]\n",
      "Prediction: ['B-ORG', 'I-PER', 'I-PER', 'O', 'O', 'O', 'O', 'O', 'O', 'O', 'O', 'O', 'O', 'O', 'O', 'O', 'O', 'O', 'O', 'O', 'O', 'O', 'O', 'O', 'O', 'O', 'O', 'B-LOC', 'O', 'O', 'O', 'O', 'O', 'O', 'O', 'O', 'O', 'O', 'O', 'O', 'O', 'O']\n",
      "Ground Truth: ['O', 'B-PER', 'I-PER', 'O', 'O', 'O', 'O', 'O', 'O', 'O', 'O', 'O', 'O', 'O', 'O', 'O', 'O', 'O', 'O', 'O', 'O', 'O', 'O', 'O', 'O', 'O', 'O', 'B-PER', 'O', 'O', 'O']\n",
      "----------------------------------------\n",
      "[Example 4]\n",
      "Prediction: ['O', 'O', 'O', 'O', 'O', 'O', 'O', 'O', 'O', 'O', 'O', 'B-LOC', 'O', 'O', 'O', 'O', 'O', 'O', 'O', 'O', 'O', 'O', 'O', 'O', 'O', 'O', 'B-LOC', 'O', 'O', 'O', 'O', 'O', 'O', 'O', 'O', 'O', 'O', 'O', 'O', 'O', 'O', 'O']\n",
      "Ground Truth: ['O', 'O', 'O', 'O', 'O', 'O', 'O', 'O', 'O', 'O', 'O', 'B-LOC', 'O', 'O', 'O', 'O', 'O', 'O', 'O', 'O', 'O', 'O', 'O', 'O', 'O', 'O', 'B-LOC', 'O']\n",
      "----------------------------------------\n",
      "[Example 5]\n",
      "Prediction: ['B-LOC', 'O', 'O', 'O', 'O', 'O', 'B-MISC', 'I-MISC', 'O', 'O', 'O', 'O', 'O', 'O', 'O', 'B-LOC', 'O', 'O', 'O', 'O', 'O', 'O', 'O', 'O', 'O', 'O', 'O', 'O', 'O', 'O', 'O', 'O', 'O', 'O', 'O', 'O', 'O', 'O', 'O', 'O', 'O', 'O']\n",
      "Ground Truth: ['B-LOC', 'O', 'O', 'O', 'O', 'O', 'B-MISC', 'I-MISC', 'O', 'O', 'O', 'O', 'O', 'O', 'O', 'B-LOC', 'O', 'O', 'O', 'O', 'O', 'O', 'O', 'O', 'O']\n",
      "----------------------------------------\n",
      "[Example 6]\n",
      "Prediction: ['O', 'B-LOC', 'O', 'O', 'O', 'O', 'O', 'O', 'O', 'O', 'O', 'O', 'O', 'O', 'O', 'O', 'O', 'O', 'O', 'O', 'O', 'O', 'O', 'B-ORG', 'O', 'O', 'O', 'O', 'O', 'O', 'O', 'O', 'O', 'O', 'O', 'O', 'O', 'O', 'O', 'O', 'O', 'O']\n",
      "Ground Truth: ['O', 'B-LOC', 'O', 'O', 'O', 'O', 'O', 'O', 'O', 'O', 'O', 'O', 'O', 'O', 'O', 'O', 'O', 'O', 'O', 'O', 'O', 'O', 'O', 'B-LOC', 'O']\n",
      "----------------------------------------\n",
      "[Example 7]\n",
      "Prediction: ['B-LOC', 'I-LOC', 'O', 'O', 'O', 'O', 'O', 'O', 'O', 'O', 'O', 'O', 'O', 'O', 'O', 'O', 'O', 'O', 'O', 'O', 'O', 'O', 'O', 'O', 'O', 'O', 'O', 'O', 'O', 'O', 'O', 'O', 'O', 'O', 'O', 'O', 'O', 'O', 'O', 'O', 'O', 'O']\n",
      "Ground Truth: ['B-PER', 'I-PER', 'O', 'O', 'O', 'O', 'O', 'O', 'O', 'O', 'O', 'O', 'O', 'O', 'O', 'O', 'O', 'O', 'O', 'O', 'O', 'O', 'O']\n",
      "----------------------------------------\n",
      "[Example 8]\n",
      "Prediction: ['B-LOC', 'O', 'O', 'O', 'O', 'O', 'B-MISC', 'O', 'O', 'O', 'O', 'O', 'O', 'O', 'O', 'O', 'O', 'O', 'B-MISC', 'O', 'O', 'O', 'O', 'O', 'O', 'O', 'O', 'O', 'O', 'O', 'O', 'O', 'O', 'O', 'O', 'O', 'O', 'O', 'O', 'O', 'O', 'O']\n",
      "Ground Truth: ['B-LOC', 'O', 'O', 'O', 'O', 'O', 'B-MISC', 'O', 'O', 'O', 'O', 'O', 'O', 'O', 'O', 'O', 'O', 'O', 'B-MISC', 'O', 'O']\n",
      "----------------------------------------\n",
      "[Example 9]\n",
      "Prediction: ['O', 'O', 'O', 'B-MISC', 'I-MISC', 'O', 'O', 'O', 'O', 'O', 'O', 'O', 'O', 'O', 'O', 'O', 'O', 'O', 'O', 'O', 'O', 'O', 'O', 'O', 'O', 'O', 'O', 'O', 'O', 'O', 'O', 'O', 'O', 'O', 'O', 'O', 'O', 'O', 'O', 'O', 'O', 'O']\n",
      "Ground Truth: ['O', 'O', 'O', 'B-MISC', 'I-MISC', 'O', 'O', 'O', 'O', 'O', 'B-LOC', 'O', 'O', 'O', 'O', 'O', 'O', 'O']\n",
      "----------------------------------------\n",
      "[Example 10]\n",
      "Prediction: ['O', 'O', 'B-MISC', 'O', 'O', 'O', 'O', 'O', 'B-MISC', 'I-MISC', 'O', 'O', 'O', 'O', 'O', 'O', 'O', 'O', 'O', 'O', 'O', 'O', 'O', 'O', 'O', 'O', 'O', 'O', 'O', 'O', 'O', 'O', 'O', 'O', 'O', 'O', 'O', 'O', 'O', 'O', 'O', 'O']\n",
      "Ground Truth: ['O', 'O', 'B-MISC', 'O', 'O', 'O', 'O', 'O', 'B-MISC', 'I-MISC', 'O', 'O', 'O', 'O', 'O', 'O', 'O']\n",
      "----------------------------------------\n",
      " Inference Accuracy: 90.70%\n"
     ]
    }
   ],
   "source": [
    "accuracy = inference_loop(model_2, test_loader, device, idx_to_label=idx2label, max_examples=10)"
   ]
  },
  {
   "cell_type": "code",
   "execution_count": 229,
   "metadata": {
    "execution": {
     "iopub.execute_input": "2025-05-11T20:12:53.548622Z",
     "iopub.status.busy": "2025-05-11T20:12:53.548394Z",
     "iopub.status.idle": "2025-05-11T20:12:54.417144Z",
     "shell.execute_reply": "2025-05-11T20:12:54.416511Z",
     "shell.execute_reply.started": "2025-05-11T20:12:53.548596Z"
    },
    "trusted": true
   },
   "outputs": [
    {
     "name": "stdout",
     "output_type": "stream",
     "text": [
      "[Example 1]\n",
      "Prediction: ['B-LOC', 'O', 'O', 'O', 'O', 'O', 'O', 'O', 'O', 'O', 'O', 'O', 'O', 'O', 'O', 'O', 'B-PER', 'O', 'B-PER', 'I-PER', 'O', 'O', 'O', 'O', 'O', 'O', 'O', 'O', 'O', 'O', 'O', 'O', 'O', 'O', 'B-MISC', 'O', 'O', 'O', 'O', 'O', 'O', 'O']\n",
      "Ground Truth: ['B-LOC', 'O', 'O', 'O', 'O', 'O', 'O', 'O', 'O', 'O', 'O', 'O', 'O', 'O', 'O', 'O', 'B-MISC', 'O', 'B-PER', 'I-PER', 'O', 'O', 'O', 'O', 'O', 'O', 'O', 'O', 'O', 'O', 'O', 'O', 'O', 'O', 'B-MISC', 'O', 'O', 'O', 'O', 'O', 'O', 'O']\n",
      "----------------------------------------\n",
      "[Example 2]\n",
      "Prediction: ['O', 'O', 'O', 'O', 'O', 'O', 'O', 'O', 'O', 'O', 'O', 'O', 'O', 'O', 'O', 'O', 'O', 'O', 'O', 'B-MISC', 'O', 'O', 'O', 'B-PER', 'I-PER', 'O', 'O', 'O', 'O', 'O', 'O', 'O', 'O', 'O', 'O', 'O', 'O', 'O', 'B-ORG', 'B-ORG', 'B-ORG', 'B-ORG']\n",
      "Ground Truth: ['B-PER', 'I-PER', 'O', 'O', 'O', 'O', 'O', 'O', 'O', 'O', 'O', 'O', 'O', 'O', 'B-PER', 'I-PER', 'O', 'O', 'O', 'B-MISC', 'O', 'O', 'O', 'B-PER', 'I-PER', 'O', 'O', 'O', 'O', 'O', 'O', 'O', 'O', 'O', 'O', 'O', 'O', 'O']\n",
      "----------------------------------------\n",
      "[Example 3]\n",
      "Prediction: ['O', 'I-PER', 'I-PER', 'O', 'O', 'O', 'O', 'O', 'O', 'O', 'O', 'O', 'O', 'O', 'O', 'O', 'O', 'O', 'O', 'O', 'O', 'O', 'O', 'O', 'O', 'O', 'O', 'O', 'O', 'O', 'O', 'B-ORG', 'B-ORG', 'B-ORG', 'B-ORG', 'B-ORG', 'B-ORG', 'B-ORG', 'B-ORG', 'B-ORG', 'B-ORG', 'B-ORG']\n",
      "Ground Truth: ['O', 'B-PER', 'I-PER', 'O', 'O', 'O', 'O', 'O', 'O', 'O', 'O', 'O', 'O', 'O', 'O', 'O', 'O', 'O', 'O', 'O', 'O', 'O', 'O', 'O', 'O', 'O', 'O', 'B-PER', 'O', 'O', 'O']\n",
      "----------------------------------------\n",
      "[Example 4]\n",
      "Prediction: ['O', 'O', 'O', 'O', 'O', 'O', 'O', 'O', 'O', 'O', 'O', 'B-LOC', 'O', 'O', 'O', 'O', 'O', 'O', 'O', 'O', 'O', 'O', 'O', 'O', 'O', 'O', 'B-LOC', 'O', 'B-ORG', 'B-ORG', 'B-ORG', 'B-ORG', 'B-ORG', 'B-ORG', 'B-ORG', 'B-ORG', 'B-ORG', 'B-ORG', 'B-ORG', 'B-ORG', 'B-ORG', 'B-ORG']\n",
      "Ground Truth: ['O', 'O', 'O', 'O', 'O', 'O', 'O', 'O', 'O', 'O', 'O', 'B-LOC', 'O', 'O', 'O', 'O', 'O', 'O', 'O', 'O', 'O', 'O', 'O', 'O', 'O', 'O', 'B-LOC', 'O']\n",
      "----------------------------------------\n",
      "[Example 5]\n",
      "Prediction: ['B-LOC', 'O', 'O', 'O', 'O', 'O', 'B-MISC', 'I-MISC', 'O', 'O', 'O', 'O', 'O', 'O', 'O', 'B-LOC', 'O', 'O', 'O', 'O', 'O', 'O', 'O', 'O', 'O', 'B-ORG', 'B-ORG', 'B-ORG', 'B-ORG', 'B-ORG', 'B-ORG', 'B-ORG', 'B-ORG', 'B-ORG', 'B-ORG', 'B-ORG', 'B-ORG', 'B-ORG', 'B-ORG', 'B-ORG', 'B-ORG', 'B-ORG']\n",
      "Ground Truth: ['B-LOC', 'O', 'O', 'O', 'O', 'O', 'B-MISC', 'I-MISC', 'O', 'O', 'O', 'O', 'O', 'O', 'O', 'B-LOC', 'O', 'O', 'O', 'O', 'O', 'O', 'O', 'O', 'O']\n",
      "----------------------------------------\n",
      "[Example 6]\n",
      "Prediction: ['O', 'B-LOC', 'O', 'O', 'O', 'O', 'O', 'O', 'O', 'O', 'O', 'O', 'O', 'O', 'O', 'O', 'O', 'O', 'O', 'O', 'O', 'O', 'O', 'O', 'O', 'B-ORG', 'B-ORG', 'B-ORG', 'B-ORG', 'B-ORG', 'B-ORG', 'B-ORG', 'B-ORG', 'B-ORG', 'B-ORG', 'B-ORG', 'B-ORG', 'B-ORG', 'B-ORG', 'B-ORG', 'B-ORG', 'B-ORG']\n",
      "Ground Truth: ['O', 'B-LOC', 'O', 'O', 'O', 'O', 'O', 'O', 'O', 'O', 'O', 'O', 'O', 'O', 'O', 'O', 'O', 'O', 'O', 'O', 'O', 'O', 'O', 'B-LOC', 'O']\n",
      "----------------------------------------\n",
      "[Example 7]\n",
      "Prediction: ['O', 'O', 'O', 'O', 'O', 'O', 'O', 'O', 'O', 'O', 'O', 'O', 'O', 'O', 'O', 'O', 'O', 'O', 'O', 'O', 'O', 'O', 'O', 'B-ORG', 'B-ORG', 'B-ORG', 'B-ORG', 'B-ORG', 'B-ORG', 'B-ORG', 'B-ORG', 'B-ORG', 'B-ORG', 'B-ORG', 'B-ORG', 'B-ORG', 'B-ORG', 'B-ORG', 'B-ORG', 'B-ORG', 'B-ORG', 'B-ORG']\n",
      "Ground Truth: ['B-PER', 'I-PER', 'O', 'O', 'O', 'O', 'O', 'O', 'O', 'O', 'O', 'O', 'O', 'O', 'O', 'O', 'O', 'O', 'O', 'O', 'O', 'O', 'O']\n",
      "----------------------------------------\n",
      "[Example 8]\n",
      "Prediction: ['B-LOC', 'O', 'O', 'O', 'O', 'O', 'B-MISC', 'O', 'O', 'O', 'O', 'O', 'O', 'O', 'O', 'O', 'B-PER', 'O', 'B-MISC', 'O', 'O', 'B-ORG', 'B-ORG', 'B-ORG', 'B-ORG', 'B-ORG', 'B-ORG', 'B-ORG', 'B-ORG', 'B-ORG', 'B-ORG', 'B-ORG', 'B-ORG', 'B-ORG', 'B-ORG', 'B-ORG', 'B-ORG', 'B-ORG', 'B-ORG', 'B-ORG', 'B-ORG', 'B-ORG']\n",
      "Ground Truth: ['B-LOC', 'O', 'O', 'O', 'O', 'O', 'B-MISC', 'O', 'O', 'O', 'O', 'O', 'O', 'O', 'O', 'O', 'O', 'O', 'B-MISC', 'O', 'O']\n",
      "----------------------------------------\n",
      "[Example 9]\n",
      "Prediction: ['O', 'O', 'O', 'B-MISC', 'I-ORG', 'O', 'O', 'O', 'O', 'O', 'O', 'O', 'O', 'O', 'O', 'O', 'O', 'O', 'B-ORG', 'B-ORG', 'B-ORG', 'B-ORG', 'B-ORG', 'B-ORG', 'B-ORG', 'B-ORG', 'B-ORG', 'B-ORG', 'B-ORG', 'B-ORG', 'B-ORG', 'B-ORG', 'B-ORG', 'B-ORG', 'B-ORG', 'B-ORG', 'B-ORG', 'B-ORG', 'B-ORG', 'B-ORG', 'B-ORG', 'B-ORG']\n",
      "Ground Truth: ['O', 'O', 'O', 'B-MISC', 'I-MISC', 'O', 'O', 'O', 'O', 'O', 'B-LOC', 'O', 'O', 'O', 'O', 'O', 'O', 'O']\n",
      "----------------------------------------\n",
      "[Example 10]\n",
      "Prediction: ['O', 'O', 'B-MISC', 'O', 'O', 'O', 'O', 'O', 'B-MISC', 'I-MISC', 'O', 'O', 'O', 'O', 'O', 'O', 'O', 'B-ORG', 'B-ORG', 'B-ORG', 'B-ORG', 'B-ORG', 'B-ORG', 'B-ORG', 'B-ORG', 'B-ORG', 'B-ORG', 'B-ORG', 'B-ORG', 'B-ORG', 'B-ORG', 'B-ORG', 'B-ORG', 'B-ORG', 'B-ORG', 'B-ORG', 'B-ORG', 'B-ORG', 'B-ORG', 'B-ORG', 'B-ORG', 'B-ORG']\n",
      "Ground Truth: ['O', 'O', 'B-MISC', 'O', 'O', 'O', 'O', 'O', 'B-MISC', 'I-MISC', 'O', 'O', 'O', 'O', 'O', 'O', 'O']\n",
      "----------------------------------------\n",
      " Inference Accuracy: 93.46%\n"
     ]
    }
   ],
   "source": [
    "accuracy = inference_loop(model, test_loader, device, idx_to_label=idx2label, max_examples=10)"
   ]
  }
 ],
 "metadata": {
  "kaggle": {
   "accelerator": "nvidiaTeslaT4",
   "dataSources": [],
   "dockerImageVersionId": 31011,
   "isGpuEnabled": true,
   "isInternetEnabled": true,
   "language": "python",
   "sourceType": "notebook"
  },
  "kernelspec": {
   "display_name": "Python 3",
   "language": "python",
   "name": "python3"
  },
  "language_info": {
   "codemirror_mode": {
    "name": "ipython",
    "version": 3
   },
   "file_extension": ".py",
   "mimetype": "text/x-python",
   "name": "python",
   "nbconvert_exporter": "python",
   "pygments_lexer": "ipython3",
   "version": "3.11.11"
  }
 },
 "nbformat": 4,
 "nbformat_minor": 4
}
